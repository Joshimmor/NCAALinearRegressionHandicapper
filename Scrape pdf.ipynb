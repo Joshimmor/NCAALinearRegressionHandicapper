{
 "cells": [
  {
   "cell_type": "code",
   "execution_count": 74,
   "metadata": {},
   "outputs": [
    {
     "name": "stderr",
     "output_type": "stream",
     "text": [
      "The output file is empty.\n",
      "The output file is empty.\n",
      "The output file is empty.\n"
     ]
    }
   ],
   "source": [
    "from tabula import wrapper\n",
    "import os\n",
    "#location of txt file\n",
    "text=r'\\\\mcquilling.com\\shares\\Departments\\SPPC\\MS LLC\\Data Services\\2022\\\\'\n",
    "#path of pdf files\n",
    "path_files=r'\\\\mcquilling.com\\shares\\Departments\\SPPC\\MS LLC\\Data Services\\2022\\Dry\\\\'\n",
    "#list of all files in directory above\n",
    "dir_list = os.listdir(path_files)\n",
    "  \n",
    "#location of where to put csv files\n",
    "move_to =r\"\\\\mcquilling.com\\shares\\Departments\\SPPC\\MS LLC\\Data Services\\2022\\Dry csv\\\\\"\n",
    "\n",
    "#get list of all files already saved\n",
    "currentline=[]\n",
    "# with open(r\"\\\\mcquilling.com\\shares\\Departments\\SPPC\\MS LLC\\Data Services\\2022\\file.txt\", \"r\") as output:\n",
    "#     for line in output:\n",
    "#         currentline = line.split(\",\") ###old files\n",
    "#save all current files\n",
    "with open (text+ \"file.txt\", 'w') as fo:\n",
    "    fo.write(','.join([str(n) for n in dir_list]))  \n",
    "    \n",
    "#only save files that are not already saved\n",
    "for i in dir_list:\n",
    "    if '.pdf' in i and i not in currentline:\n",
    "        usethese = i\n",
    "        file=r'\\\\mcquilling.com\\shares\\Departments\\SPPC\\MS LLC\\Data Services\\2022\\Dry\\\\' +usethese\n",
    "        df = wrapper.read_pdf(file)\n",
    "        path = Path(file).stem\n",
    "        if df is not None:\n",
    "            df.to_csv(move_to+path+'.csv',index=False)\n",
    "\n"
   ]
  }
 ],
 "metadata": {
  "kernelspec": {
   "display_name": "Python 3",
   "language": "python",
   "name": "python3"
  },
  "language_info": {
   "codemirror_mode": {
    "name": "ipython",
    "version": 3
   },
   "file_extension": ".py",
   "mimetype": "text/x-python",
   "name": "python",
   "nbconvert_exporter": "python",
   "pygments_lexer": "ipython3",
   "version": "3.7.3"
  }
 },
 "nbformat": 4,
 "nbformat_minor": 5
}
