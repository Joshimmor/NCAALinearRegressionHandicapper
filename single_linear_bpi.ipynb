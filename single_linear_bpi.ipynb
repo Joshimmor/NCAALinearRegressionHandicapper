{
 "cells": [
  {
   "cell_type": "code",
   "execution_count": 1,
   "id": "06bc081b",
   "metadata": {},
   "outputs": [],
   "source": [
    "import numpy as np\n",
    "import pandas as pd\n",
    "from sklearn import linear_model\n",
    "from sklearn.model_selection import train_test_split\n",
    "from sklearn.linear_model import LinearRegression\n",
    "import matplotlib.pyplot as plt\n",
    "from matplotlib import style\n",
    "import pickle\n",
    "import requests\n",
    "import json"
   ]
  },
  {
   "cell_type": "code",
   "execution_count": 2,
   "id": "f704a374",
   "metadata": {},
   "outputs": [
    {
     "name": "stdout",
     "output_type": "stream",
     "text": [
      "      home_id  away_id  game_spread\n",
      "0         307      305          6.0\n",
      "1         301      292         22.0\n",
      "2         197      195         -2.0\n",
      "3         190      191        -27.0\n",
      "4          89       80         -1.0\n",
      "...       ...      ...          ...\n",
      "1877      103      101         12.0\n",
      "1878      127      131         -2.0\n",
      "1879       98       95          3.0\n",
      "1880       14       20         -5.0\n",
      "1881       19       16         -4.0\n",
      "\n",
      "[1882 rows x 3 columns]                school   bpi  team_id\n",
      "0             Gonzaga  20.7      334\n",
      "1             Houston  18.7        6\n",
      "2            Kentucky  18.4      268\n",
      "3             Arizona  18.2      247\n",
      "4              Baylor  17.8      108\n",
      "5           Villanova  17.6       58\n",
      "6           Tennessee  17.2      277\n",
      "7                Duke  16.9       26\n",
      "8              Purdue  16.5       94\n",
      "9              Auburn  16.3      279\n",
      "10               UCLA  16.3      253\n",
      "11             Kansas  15.9      106\n",
      "12         Texas Tech  15.5      111\n",
      "13               Iowa  15.0       91\n",
      "14                LSU  14.7      269\n",
      "15           Illinois  14.5      102\n",
      "16              Texas  13.9      109\n",
      "18           Arkansas  12.9      276\n",
      "19            Alabama  12.2      275\n",
      "20      Virginia Tech  12.1       31\n",
      "21         Ohio State  11.7       98\n",
      "22       Saint Mary's  11.5      335\n",
      "23            Memphis  11.5        7\n",
      "24     Loyola Chicago  11.4      209\n",
      "25          Wisconsin  11.1       96\n",
      "26           Michigan  11.1       95\n",
      "27     North Carolina  11.0       21\n",
      "28       Murray State  10.7      240\n",
      "29      San Francisco  10.6      338\n",
      "30    San Diego State  10.6      212\n",
      "31         Seton Hall  10.6       60\n",
      "32         Providence  10.6       63\n",
      "33        Wake Forest  10.4       34\n",
      "34     Michigan State  10.2       97\n",
      "35  Mississippi State  10.2      278\n",
      "36                USC  10.0      246\n",
      "37            Indiana   9.9       93\n",
      "38           Oklahoma   9.9      105\n",
      "39             Xavier   9.8       59\n",
      "40     Oklahoma State   9.8      113\n",
      "41            Florida   9.8      271\n",
      "42             Dayton   9.5       44\n",
      "43         Iowa State   9.3      110\n",
      "44                TCU   9.2      114\n",
      "45                SMU   9.2        1\n",
      "46         Notre Dame   9.2       25\n",
      "47        Saint Louis   9.2       54\n",
      "48                UAB   9.1      134\n",
      "49          Texas A&M   8.9      270\n"
     ]
    }
   ],
   "source": [
    "games = pd.read_csv('training_games_dirty.csv',index_col=0)\n",
    "teams  = pd.read_csv('bpi_cleaned.csv',index_col=0)\n",
    "games = games.dropna()\n",
    "print(games,teams)"
   ]
  },
  {
   "cell_type": "code",
   "execution_count": 5,
   "id": "010d850e",
   "metadata": {},
   "outputs": [],
   "source": [
    "predicted = []\n",
    "actual = []\n",
    "for g in games.iterrows():\n",
    "    h_id = g[1]['home_id']\n",
    "    a_id = g[1]['away_id']\n",
    "    home_team = teams.loc[teams['team_id'] == h_id]\n",
    "    away_team = teams.loc[teams['team_id'] == a_id]\n",
    "    if home_team.empty or away_team.empty:\n",
    "        continue\n",
    "    p_spread = (int(home_team['bpi']) - int(away_team['bpi'])) + 3\n",
    "    predicted.append(p_spread)\n",
    "    actual.append(g[1]['game_spread'])\n",
    "data = {\n",
    "    'x':predicted,\n",
    "    'y':actual\n",
    "}\n",
    "df = pd.DataFrame(data)"
   ]
  },
  {
   "cell_type": "code",
   "execution_count": 6,
   "id": "7d602a77",
   "metadata": {},
   "outputs": [
    {
     "name": "stdout",
     "output_type": "stream",
     "text": [
      "0.14512028079947936\n"
     ]
    }
   ],
   "source": [
    "prd = np.array(df['x']).reshape(-1, 1)\n",
    "act = np.array(df['y']).reshape(-1, 1)\n",
    "X_train, X_test, y_train, y_test = train_test_split(prd, act, test_size = 0.25)\n",
    "regr = LinearRegression()\n",
    "regr.fit(X_train, y_train)\n",
    "print(regr.score(X_test, y_test))"
   ]
  },
  {
   "cell_type": "code",
   "execution_count": 7,
   "id": "13ebaac2",
   "metadata": {},
   "outputs": [
    {
     "data": {
      "text/plain": [
       "array([[30.55318288]])"
      ]
     },
     "execution_count": 7,
     "metadata": {},
     "output_type": "execute_result"
    }
   ],
   "source": [
    "x = np.array([20.4]).reshape(-1, 1)\n",
    "regr.predict(x)"
   ]
  }
 ],
 "metadata": {
  "kernelspec": {
   "display_name": "Python 3 (ipykernel)",
   "language": "python",
   "name": "python3"
  },
  "language_info": {
   "codemirror_mode": {
    "name": "ipython",
    "version": 3
   },
   "file_extension": ".py",
   "mimetype": "text/x-python",
   "name": "python",
   "nbconvert_exporter": "python",
   "pygments_lexer": "ipython3",
   "version": "3.9.7"
  }
 },
 "nbformat": 4,
 "nbformat_minor": 5
}
