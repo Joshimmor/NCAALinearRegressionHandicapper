{
 "cells": [
  {
   "cell_type": "code",
   "execution_count": 2,
   "id": "38c0f432",
   "metadata": {},
   "outputs": [],
   "source": [
    "import requests \n",
    "from bs4 import BeautifulSoup\n",
    "import pandas as pd"
   ]
  },
  {
   "cell_type": "code",
   "execution_count": 3,
   "id": "5250a369",
   "metadata": {},
   "outputs": [
    {
     "name": "stdout",
     "output_type": "stream",
     "text": [
      "50 50\n",
      "     school   bpi\n",
      "0   Gonzaga  20.7\n",
      "1   Houston  18.7\n",
      "2  Kentucky  18.4\n",
      "3   Arizona  18.2\n",
      "4    Baylor  17.8\n"
     ]
    }
   ],
   "source": [
    "# espn = requests.get('https://www.espn.com/mens-college-basketball/bpi/_/view/bpi')\n",
    "# soup = BeautifulSoup(espn.text,'html.parser')\n",
    "# # print(soup.prettify())\n",
    "# table = soup.find('table',\"bpi__table\").find('tbody').find_all('td')\n",
    "# # print(table[0].string)\n",
    "# # for i in table:\n",
    "# #     if(i.string == None):\n",
    "# #         print(i.find('span','team-names').string)\n",
    "# #         continue\n",
    "# #     print(i.string)\n",
    "# # print(len(table))\n",
    "# teams = []\n",
    "# for i in range(50):\n",
    "#     team =[]\n",
    "#     for j in range(8):\n",
    "#         k = (i*8)+j\n",
    "#         if (table[k].string == None):\n",
    "#             team.append(table[k].find('span','team-names').string)\n",
    "#             continue\n",
    "#         team.append(table[k].string)\n",
    "#     teams.append(team)\n",
    "# school =[]\n",
    "# BPI = []\n",
    "# for team in teams:\n",
    "#     school.append(team[1])\n",
    "#     BPI.append(team[6])\n",
    "# print(len(school),len(BPI))\n",
    "# data = {\n",
    "#     'school' : school,\n",
    "#     'bpi' : BPI\n",
    "# }\n",
    "# df = pd.DataFrame(data)\n",
    "# print(df.head())\n",
    "# df.to_csv('ncaa_bpi.csv')"
   ]
  },
  {
   "cell_type": "code",
   "execution_count": 18,
   "id": "6ecc0e3f",
   "metadata": {},
   "outputs": [],
   "source": [
    "bpi = pd.read_csv('ncaa_bpi.csv', index_col=0)\n",
    "teams  = pd.read_csv('teams.csv', index_col=0)\n",
    "# print(teams.head())\n",
    "IDS = []\n",
    "to_drop = []\n",
    "for ts_ind in bpi.index:\n",
    "    for tn_ind in teams.index:\n",
    "        if teams['School'][tn_ind] == bpi['school'][ts_ind]:\n",
    "            IDS.append(teams['TeamID'][tn_ind])\n",
    "            break\n",
    "        elif tn_ind == len(teams.index)-1:\n",
    "            to_drop.append(ts_ind)\n",
    "# print(IDS,to_drop)\n",
    "bpi = bpi.drop(labels=to_drop,axis=0)\n",
    "bpi['team_id']  = IDS\n",
    "bpi.to_csv('bpi_cleaned.csv')"
   ]
  }
 ],
 "metadata": {
  "kernelspec": {
   "display_name": "Python 3 (ipykernel)",
   "language": "python",
   "name": "python3"
  },
  "language_info": {
   "codemirror_mode": {
    "name": "ipython",
    "version": 3
   },
   "file_extension": ".py",
   "mimetype": "text/x-python",
   "name": "python",
   "nbconvert_exporter": "python",
   "pygments_lexer": "ipython3",
   "version": "3.9.7"
  }
 },
 "nbformat": 4,
 "nbformat_minor": 5
}
