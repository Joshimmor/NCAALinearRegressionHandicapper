{
 "cells": [
  {
   "cell_type": "code",
   "execution_count": 2,
   "id": "8a4dfc64",
   "metadata": {},
   "outputs": [],
   "source": [
    "import numpy as np\n",
    "import pandas as pd\n",
    "from sklearn import linear_model\n",
    "from sklearn.model_selection import train_test_split\n",
    "from sklearn.linear_model import LinearRegression\n",
    "import matplotlib.pyplot as plt\n",
    "from matplotlib import style\n",
    "import pickle\n",
    "import requests\n",
    "import json\n"
   ]
  },
  {
   "cell_type": "code",
   "execution_count": 4,
   "id": "960bf429",
   "metadata": {},
   "outputs": [
    {
     "name": "stdout",
     "output_type": "stream",
     "text": [
      "      Unnamed: 0  predicted_spread  actual_spread\n",
      "0              0             -0.91           -2.0\n",
      "1              1             -0.59           -1.0\n",
      "2              2             -8.39           -4.0\n",
      "3              3              5.78           17.0\n",
      "4              4              2.02           -8.0\n",
      "...          ...               ...            ...\n",
      "1039        1039              9.78           36.0\n",
      "1040        1040             -3.43           28.0\n",
      "1041        1041              3.50           31.0\n",
      "1042        1042              1.39           -2.0\n",
      "1043        1043              1.40           -5.0\n",
      "\n",
      "[1044 rows x 3 columns]\n"
     ]
    }
   ],
   "source": [
    "df = pd.read_csv('training_data.csv')\n",
    "df = df.dropna()\n",
    "print(df)"
   ]
  },
  {
   "cell_type": "code",
   "execution_count": 11,
   "id": "880f4d62",
   "metadata": {},
   "outputs": [
    {
     "name": "stdout",
     "output_type": "stream",
     "text": [
      "0.07966788495991006\n"
     ]
    }
   ],
   "source": [
    "\n",
    "prd = np.array(df['predicted_spread']).reshape(-1, 1)\n",
    "act = np.array(df['actual_spread']).reshape(-1, 1)\n",
    "X_train, X_test, y_train, y_test = train_test_split(prd, act, test_size = 0.25)\n",
    "regr = LinearRegression()\n",
    "regr.fit(X_train, y_train)\n",
    "print(regr.score(X_test, y_test))"
   ]
  },
  {
   "cell_type": "code",
   "execution_count": 15,
   "id": "a136828d",
   "metadata": {},
   "outputs": [
    {
     "data": {
      "text/plain": [
       "array([[7.88791093],\n",
       "       [2.83387573]])"
      ]
     },
     "execution_count": 15,
     "metadata": {},
     "output_type": "execute_result"
    }
   ],
   "source": [
    "x = np.array([6.05,.41]).reshape(-1, 1)\n",
    "regr.predict(x)"
   ]
  }
 ],
 "metadata": {
  "kernelspec": {
   "display_name": "Python 3 (ipykernel)",
   "language": "python",
   "name": "python3"
  },
  "language_info": {
   "codemirror_mode": {
    "name": "ipython",
    "version": 3
   },
   "file_extension": ".py",
   "mimetype": "text/x-python",
   "name": "python",
   "nbconvert_exporter": "python",
   "pygments_lexer": "ipython3",
   "version": "3.9.7"
  }
 },
 "nbformat": 4,
 "nbformat_minor": 5
}
