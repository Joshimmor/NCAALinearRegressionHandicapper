{
 "cells": [
  {
   "cell_type": "code",
   "execution_count": 30,
   "metadata": {},
   "outputs": [],
   "source": [
    "from shareplum import Site, Office365\n",
    "from shareplum.site import Version"
   ]
  },
  {
   "cell_type": "code",
   "execution_count": 31,
   "metadata": {},
   "outputs": [],
   "source": [
    "import json\n",
    "import os"
   ]
  },
  {
   "cell_type": "code",
   "execution_count": 32,
   "metadata": {},
   "outputs": [],
   "source": [
    "from bs4 import BeautifulSoup \n",
    "import requests as r\n",
    "from requests.structures import CaseInsensitiveDict"
   ]
  },
  {
   "cell_type": "code",
   "execution_count": 33,
   "metadata": {},
   "outputs": [],
   "source": [
    "ROOT_DIR = os.path.dirname(os.path.abspath('__file__'))\n",
    "config_path = '\\\\'.join([ROOT_DIR, 'Cred.json'])\n",
    "\n",
    "# read json config file\n",
    "with open(config_path) as config_file:\n",
    "    config = json.load(config_file)\n",
    "    config = config['share_point']\n"
   ]
  },
  {
   "cell_type": "code",
   "execution_count": 34,
   "metadata": {},
   "outputs": [],
   "source": [
    "USERNAME = config['user']\n",
    "PASSWORD = config['password']\n",
    "SHAREPOINT_URL = config['url']\n",
    "SHAREPOINT_SITE = config['site']"
   ]
  },
  {
   "cell_type": "code",
   "execution_count": 35,
   "metadata": {},
   "outputs": [
    {
     "name": "stdout",
     "output_type": "stream",
     "text": [
      "Guest1.ict@Mcquilling.com credentials for sharepoint obtained\n"
     ]
    }
   ],
   "source": [
    "print(USERNAME + ' credentials for sharepoint obtained')"
   ]
  },
  {
   "cell_type": "code",
   "execution_count": 64,
   "metadata": {},
   "outputs": [],
   "source": [
    "class SharePoint:\n",
    "    def auth(self):\n",
    "        self.authcookie = Office365(\n",
    "            SHAREPOINT_URL,\n",
    "            username=USERNAME,\n",
    "            password=PASSWORD,\n",
    "        ).GetCookies()\n",
    "        self.site = Site(\n",
    "            SHAREPOINT_SITE,\n",
    "            version=Version.v365,\n",
    "            authcookie=self.authcookie,\n",
    "        )\n",
    "        return self.site\n",
    "\n",
    "    def connect_to_list(self, ls_name):\n",
    "        self.auth_site = self.auth()\n",
    "\n",
    "        list_data = self.auth_site.List(list_name=ls_name).GetListItems()\n",
    "\n",
    "        return list_data\n",
    "    def request_data(self, url):\n",
    "        html = Site(SHAREPOINT_SITE+doc_url, version=Version.v365, authcookie=self.authcookie)\n",
    "        return html\n",
    "        "
   ]
  },
  {
   "cell_type": "code",
   "execution_count": 70,
   "metadata": {},
   "outputs": [
    {
     "name": "stdout",
     "output_type": "stream",
     "text": [
      "{'Type': 'html', 'Channel': 'RECAPS.DXB', 'Name': '3433;#cnv_dqwkjev.html', 'Content Type': 'Document', 'Modified By': 'MS Flow Service', 'Approval Status': '0', 'Level': '1', 'Unique Id': '3433;#{19F05EF8-AFB4-4E2B-ADE8-3F3B7D013D39}', 'Item Type': '3433;#0', 'Created': '3433;#2022-02-01 11:21:09', 'ProgId': '3433;#', 'Effective Permissions Mask': '0x1b03c431aef', 'Modified': datetime.datetime(2022, 2, 1, 11, 21, 10), 'ScopeId': '3433;#{573153D7-0ADF-4168-BC02-DB7DB6EB4748}', 'URL Path': '3433;#Recaps/cnv_dqwkjev.html', 'Property Bag': '3433;#vti_parserversion:SR|16.0.0.22112\\r\\nvti_folderitemcount:IR|0\\r\\nChannel:SW|RECAPS.DXB\\r\\nvti_charset:SR|windows-1252\\r\\nvti_previewinvalidtime:TX|01 Feb 2022 19:21:09 -0000\\r\\nvti_author:SR|i:0#.f|membership|flow.service@mcquilling.com\\r\\nvti_cachedbodystyle:SR|<body>\\r\\nvti_dbschemaversion:SR|16.0.281.0\\r\\nvti_sprocsschemaversion:SR|16.0.689.0\\r\\nvti_timelastwnssent:TR|01 Feb 2022 19:21:10 -0000\\r\\nvti_writevalidationtoken:SW|yu1F45CvCuW29N4WYWrfWBGIcFA=\\r\\nvti_modifiedby:SR|i:0#.f|membership|flow.service@mcquilling.com\\r\\nvti_foldersubfolderitemcount:IR|0\\r\\nvti_cachedcustomprops:VX|Channel vti_title\\r\\nContentTypeId:SW|0x010100BE1F994C20E51E48B7B60AD1F3716268\\r\\nCurated:SW|New\\r\\nvti_title:SR|NCC TIHAMA / TRAFIGURA C.P. 1.2.22 >>>FULLY FIXED RECAP<<\\r\\nvti_iplabelpromotionversion:IW|0\\r\\nvti_cachedtitle:SR|NCC TIHAMA / TRAFIGURA C.P. 1.2.22 >>>FULLY FIXED RECAP<<\\r\\n', 'ID': '3433', 'owshiddenversion': '2'}\n"
     ]
    }
   ],
   "source": [
    "recaps = SharePoint()\n",
    "sites = recaps.connect_to_list('Recaps')\n",
    "# doc_name = sites[0]['URL Path'].split('/')[1].split('.')[0]\n",
    "print(sites[0])"
   ]
  },
  {
   "cell_type": "code",
   "execution_count": 66,
   "metadata": {},
   "outputs": [
    {
     "name": "stdout",
     "output_type": "stream",
     "text": [
      "Recaps/Forms/VELAVOY%202005.aspx?id=%2FRecaps%2Fcnv_dqwkjev%2Ehtml&parent=%2FRecaps\n"
     ]
    }
   ],
   "source": [
    "slug = 'Recaps/Forms/VELAVOY%202005.aspx?id=%2FRecaps%2F'\n",
    "slug_end = '%2Ehtml&parent=%2FRecaps'\n",
    "doc_url = slug + doc_id + slug_end\n",
    "print(doc_url)"
   ]
  },
  {
   "cell_type": "code",
   "execution_count": 67,
   "metadata": {},
   "outputs": [],
   "source": [
    "##result = r.get(SHAREPOINT_SITE+doc_url)\n",
    "##print(result.status_code)\n",
    "##print(recaps.authcookie.get('rtFa'))\n",
    "# headers = CaseInsensitiveDict()\n",
    "# headers[\"Authorization\"] = 'bearer ' + recaps.authcookie.get('rtFa')\n",
    "# headers['Access-Control-Allow-Origin'] = '*'\n",
    "# result = r.get(SHAREPOINT_SITE+doc_url,headers=headers)\n",
    "# print(result.status_code)"
   ]
  },
  {
   "cell_type": "code",
   "execution_count": 68,
   "metadata": {},
   "outputs": [
    {
     "ename": "IndexError",
     "evalue": "list index out of range",
     "output_type": "error",
     "traceback": [
      "\u001b[1;31m---------------------------------------------------------------------------\u001b[0m",
      "\u001b[1;31mIndexError\u001b[0m                                Traceback (most recent call last)",
      "\u001b[1;32m<ipython-input-68-1dd201e07234>\u001b[0m in \u001b[0;36m<module>\u001b[1;34m\u001b[0m\n\u001b[1;32m----> 1\u001b[1;33m \u001b[0mrecaps\u001b[0m\u001b[1;33m.\u001b[0m\u001b[0mrequest_data\u001b[0m\u001b[1;33m(\u001b[0m\u001b[0mdoc_url\u001b[0m\u001b[1;33m)\u001b[0m\u001b[1;33m\u001b[0m\u001b[1;33m\u001b[0m\u001b[0m\n\u001b[0m",
      "\u001b[1;32m<ipython-input-64-a0f2a8e10aa5>\u001b[0m in \u001b[0;36mrequest_data\u001b[1;34m(self, url)\u001b[0m\n\u001b[0;32m     20\u001b[0m         \u001b[1;32mreturn\u001b[0m \u001b[0mlist_data\u001b[0m\u001b[1;33m\u001b[0m\u001b[1;33m\u001b[0m\u001b[0m\n\u001b[0;32m     21\u001b[0m     \u001b[1;32mdef\u001b[0m \u001b[0mrequest_data\u001b[0m\u001b[1;33m(\u001b[0m\u001b[0mself\u001b[0m\u001b[1;33m,\u001b[0m \u001b[0murl\u001b[0m\u001b[1;33m)\u001b[0m\u001b[1;33m:\u001b[0m\u001b[1;33m\u001b[0m\u001b[1;33m\u001b[0m\u001b[0m\n\u001b[1;32m---> 22\u001b[1;33m         \u001b[0mhtml\u001b[0m \u001b[1;33m=\u001b[0m \u001b[0mSite\u001b[0m\u001b[1;33m(\u001b[0m\u001b[0mSHAREPOINT_SITE\u001b[0m\u001b[1;33m+\u001b[0m\u001b[0mdoc_url\u001b[0m\u001b[1;33m,\u001b[0m \u001b[0mversion\u001b[0m\u001b[1;33m=\u001b[0m\u001b[0mVersion\u001b[0m\u001b[1;33m.\u001b[0m\u001b[0mv365\u001b[0m\u001b[1;33m,\u001b[0m \u001b[0mauthcookie\u001b[0m\u001b[1;33m=\u001b[0m\u001b[0mself\u001b[0m\u001b[1;33m.\u001b[0m\u001b[0mauthcookie\u001b[0m\u001b[1;33m)\u001b[0m\u001b[1;33m\u001b[0m\u001b[1;33m\u001b[0m\u001b[0m\n\u001b[0m\u001b[0;32m     23\u001b[0m         \u001b[1;32mreturn\u001b[0m \u001b[0mhtml\u001b[0m\u001b[1;33m\u001b[0m\u001b[1;33m\u001b[0m\u001b[0m\n\u001b[0;32m     24\u001b[0m \u001b[1;33m\u001b[0m\u001b[0m\n",
      "\u001b[1;32m~\\AppData\\Local\\Continuum\\anaconda3\\lib\\site-packages\\shareplum\\site.py\u001b[0m in \u001b[0;36mSite\u001b[1;34m(site_url, version, auth, authcookie, verify_ssl, ssl_version, huge_tree, timeout)\u001b[0m\n\u001b[0;32m    569\u001b[0m                         \u001b[0mssl_version\u001b[0m\u001b[1;33m,\u001b[0m\u001b[1;33m\u001b[0m\u001b[1;33m\u001b[0m\u001b[0m\n\u001b[0;32m    570\u001b[0m                         \u001b[0mhuge_tree\u001b[0m\u001b[1;33m,\u001b[0m\u001b[1;33m\u001b[0m\u001b[1;33m\u001b[0m\u001b[0m\n\u001b[1;32m--> 571\u001b[1;33m                         timeout)\n\u001b[0m",
      "\u001b[1;32m~\\AppData\\Local\\Continuum\\anaconda3\\lib\\site-packages\\shareplum\\site.py\u001b[0m in \u001b[0;36m__init__\u001b[1;34m(self, site_url, auth, authcookie, verify_ssl, ssl_version, huge_tree, timeout)\u001b[0m\n\u001b[0;32m    402\u001b[0m                  \u001b[0mhuge_tree\u001b[0m\u001b[1;33m=\u001b[0m\u001b[1;32mFalse\u001b[0m\u001b[1;33m,\u001b[0m  \u001b[1;31m# type: bool\u001b[0m\u001b[1;33m\u001b[0m\u001b[1;33m\u001b[0m\u001b[0m\n\u001b[0;32m    403\u001b[0m                  timeout=None):  # type: Optional[int]\n\u001b[1;32m--> 404\u001b[1;33m         \u001b[0msuper\u001b[0m\u001b[1;33m(\u001b[0m\u001b[1;33m)\u001b[0m\u001b[1;33m.\u001b[0m\u001b[0m__init__\u001b[0m\u001b[1;33m(\u001b[0m\u001b[0msite_url\u001b[0m\u001b[1;33m,\u001b[0m \u001b[0mauth\u001b[0m\u001b[1;33m,\u001b[0m \u001b[0mauthcookie\u001b[0m\u001b[1;33m,\u001b[0m \u001b[0mverify_ssl\u001b[0m\u001b[1;33m,\u001b[0m \u001b[0mssl_version\u001b[0m\u001b[1;33m,\u001b[0m \u001b[0mhuge_tree\u001b[0m\u001b[1;33m,\u001b[0m \u001b[0mtimeout\u001b[0m\u001b[1;33m)\u001b[0m\u001b[1;33m\u001b[0m\u001b[1;33m\u001b[0m\u001b[0m\n\u001b[0m\u001b[0;32m    405\u001b[0m \u001b[1;33m\u001b[0m\u001b[0m\n\u001b[0;32m    406\u001b[0m         self._session.headers.update({'Accept': 'application/json',\n",
      "\u001b[1;32m~\\AppData\\Local\\Continuum\\anaconda3\\lib\\site-packages\\shareplum\\site.py\u001b[0m in \u001b[0;36m__init__\u001b[1;34m(self, site_url, auth, authcookie, verify_ssl, ssl_version, huge_tree, timeout)\u001b[0m\n\u001b[0;32m     93\u001b[0m         }  # type: Dict[str, str]\n\u001b[0;32m     94\u001b[0m \u001b[1;33m\u001b[0m\u001b[0m\n\u001b[1;32m---> 95\u001b[1;33m         \u001b[0mself\u001b[0m\u001b[1;33m.\u001b[0m\u001b[0msite_info\u001b[0m \u001b[1;33m=\u001b[0m \u001b[0mself\u001b[0m\u001b[1;33m.\u001b[0m\u001b[0mget_site\u001b[0m\u001b[1;33m(\u001b[0m\u001b[1;33m)\u001b[0m\u001b[1;33m\u001b[0m\u001b[1;33m\u001b[0m\u001b[0m\n\u001b[0m\u001b[0;32m     96\u001b[0m         \u001b[0mself\u001b[0m\u001b[1;33m.\u001b[0m\u001b[0musers\u001b[0m \u001b[1;33m=\u001b[0m \u001b[0mself\u001b[0m\u001b[1;33m.\u001b[0m\u001b[0mget_users\u001b[0m\u001b[1;33m(\u001b[0m\u001b[1;33m)\u001b[0m\u001b[1;33m\u001b[0m\u001b[1;33m\u001b[0m\u001b[0m\n\u001b[0;32m     97\u001b[0m         \u001b[0mself\u001b[0m\u001b[1;33m.\u001b[0m\u001b[0mversion\u001b[0m \u001b[1;33m=\u001b[0m \u001b[1;34m\"2007\"\u001b[0m  \u001b[1;31m# For Debugging\u001b[0m\u001b[1;33m\u001b[0m\u001b[1;33m\u001b[0m\u001b[0m\n",
      "\u001b[1;32m~\\AppData\\Local\\Continuum\\anaconda3\\lib\\site-packages\\shareplum\\site.py\u001b[0m in \u001b[0;36mget_site\u001b[1;34m(self)\u001b[0m\n\u001b[0;32m    235\u001b[0m                                     parser=etree.XMLParser(huge_tree=self.huge_tree,\n\u001b[0;32m    236\u001b[0m                                     recover=True))\n\u001b[1;32m--> 237\u001b[1;33m         \u001b[0mdata\u001b[0m \u001b[1;33m=\u001b[0m \u001b[0menvelope\u001b[0m\u001b[1;33m[\u001b[0m\u001b[1;36m0\u001b[0m\u001b[1;33m]\u001b[0m\u001b[1;33m[\u001b[0m\u001b[1;36m0\u001b[0m\u001b[1;33m]\u001b[0m\u001b[1;33m[\u001b[0m\u001b[1;36m0\u001b[0m\u001b[1;33m]\u001b[0m\u001b[1;33m\u001b[0m\u001b[1;33m\u001b[0m\u001b[0m\n\u001b[0m\u001b[0;32m    238\u001b[0m \u001b[1;33m\u001b[0m\u001b[0m\n\u001b[0;32m    239\u001b[0m         \u001b[1;31m# TODO: Not sure what to do with this, so just return the text\u001b[0m\u001b[1;33m\u001b[0m\u001b[1;33m\u001b[0m\u001b[1;33m\u001b[0m\u001b[0m\n",
      "\u001b[1;32msrc/lxml/etree.pyx\u001b[0m in \u001b[0;36mlxml.etree._Element.__getitem__\u001b[1;34m()\u001b[0m\n",
      "\u001b[1;31mIndexError\u001b[0m: list index out of range"
     ]
    }
   ],
   "source": [
    "# recaps.request_data(doc_url)"
   ]
  },
  {
   "cell_type": "code",
   "execution_count": null,
   "metadata": {},
   "outputs": [],
   "source": []
  }
 ],
 "metadata": {
  "kernelspec": {
   "display_name": "Python 3",
   "language": "python",
   "name": "python3"
  },
  "language_info": {
   "codemirror_mode": {
    "name": "ipython",
    "version": 3
   },
   "file_extension": ".py",
   "mimetype": "text/x-python",
   "name": "python",
   "nbconvert_exporter": "python",
   "pygments_lexer": "ipython3",
   "version": "3.7.3"
  }
 },
 "nbformat": 4,
 "nbformat_minor": 2
}
